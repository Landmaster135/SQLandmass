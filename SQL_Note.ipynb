{
 "cells": [
  {
   "cell_type": "markdown",
   "metadata": {},
   "source": [
    "##### Note_SQL.ipynb"
   ]
  },
  {
   "cell_type": "markdown",
   "metadata": {},
   "source": [
    "- 2020年9月14日：EXPORT時にスレッド数を指定してマルチコアで行うことで、所要時間を減らす。"
   ]
  },
  {
   "cell_type": "code",
   "execution_count": null,
   "metadata": {},
   "outputs": [],
   "source": [
    "EXPORT <テーブル名1>, <テーブル名2>,... AS <拡張子> INTO <出力先のパス> THREAD <スレッド数>;"
   ]
  },
  {
   "cell_type": "markdown",
   "metadata": {},
   "source": [
    "- 2020年9月18日：パーティションで分けてINSERTをマルチコアで行うことで、所要時間を減らす。"
   ]
  },
  {
   "cell_type": "code",
   "execution_count": null,
   "metadata": {},
   "outputs": [],
   "source": [
    "\n",
    "ALTER TABLE\n"
   ]
  },
  {
   "cell_type": "markdown",
   "metadata": {},
   "source": [
    "- 2020年9月24日：SAP HANAのデルタマージの遅延を解消するためのクエリ\n",
    "- 参考：https://books.google.co.jp/books?id=BUY4DwAAQBAJ&pg=PA59&lpg=PA59&dq=hana+%E3%82%B9%E3%83%9E%E3%83%BC%E3%83%88%E3%83%9E%E3%83%BC%E3%82%B8+merge+delta+of&source=bl&ots=356sqJnFzC&sig=ACfU3U1tUXnbPwPrZfodkTuunfdahgaBWw&hl=ja&sa=X&ved=2ahUKEwjoo6eM-oTsAhXWxIsBHdVfBU8Q6AEwB3oECAEQAQ#v=onepage&q=hana%20%E3%82%B9%E3%83%9E%E3%83%BC%E3%83%88%E3%83%9E%E3%83%BC%E3%82%B8%20merge%20delta%20of&f=false"
   ]
  },
  {
   "cell_type": "code",
   "execution_count": null,
   "metadata": {},
   "outputs": [],
   "source": [
    "/* クリティカルマージとは、デルタマージの大きさが特定の閾値を超えると、HANAが自動的に行うマージのこと。 */\n",
    "/* スマートマージ */\n",
    "MERGE DELTA OF <テーブル名> WITH PARAMETERS (‘SMART_MERGE’ = ‘ON');\n",
    "/* ハードマージ */\n",
    "MERGE DELTA OF <テーブル名> ;\n",
    "/* フォースマージは以下のどちらか。 */\n",
    "MERGE DELTA OF <テーブル名> FORCE REBUILD;\n",
    "MERGE DELTA OF <テーブル名> WITH PARAMETERS (‘FORCED_MERGE’ = ‘ON');"
   ]
  },
  {
   "cell_type": "markdown",
   "metadata": {},
   "source": [
    "- 2020年9月26日：ORDER BYの順序→前に書いた方を基準にソートされる。"
   ]
  },
  {
   "cell_type": "code",
   "execution_count": null,
   "metadata": {},
   "outputs": [],
   "source": [
    "SELECT winner, subject FROM nobel WHERE yr=1984\n",
    " ORDER BY subject IN (\n",
    "  'Physics', ‘Chemistry'\n",
    ") ASC, subject ASC, winner ASC;"
   ]
  },
  {
   "cell_type": "markdown",
   "metadata": {},
   "source": [
    "- 2020年9月26日：'Argentina'または'Australia'を含む大陸にある国の、国名と大陸を表示する。国名順に表示する。"
   ]
  },
  {
   "cell_type": "code",
   "execution_count": null,
   "metadata": {},
   "outputs": [],
   "source": [
    "SELECT name, continent FROM world WHERE continent IN (\n",
    "  SELECT continent FROM world WHERE name IN ('Argentina', 'Australia’)\n",
    ")\n",
    "ORDER BY name ASC;"
   ]
  },
  {
   "cell_type": "markdown",
   "metadata": {},
   "source": [
    "- 2020年9月26日：人口がカナダ Canadaよりも多く、ポーランドPolandよりも少ない国の、国名と人口を表示する。"
   ]
  },
  {
   "cell_type": "code",
   "execution_count": null,
   "metadata": {},
   "outputs": [],
   "source": [
    "SELECT name, population FROM world WHERE population BETWEEN (\n",
    "  SELECT population FROM world WHERE name = ‘Poland’\n",
    ") \n",
    "AND (\n",
    "  SELECT population FROM world WHERE name = ‘Canada’\n",
    ");"
   ]
  },
  {
   "cell_type": "markdown",
   "metadata": {},
   "source": [
    "- 2020年9月26日：ヨーロッパの各国について 国名と人口を表示する。ドイツ人口の何％かで表示する。"
   ]
  },
  {
   "cell_type": "code",
   "execution_count": null,
   "metadata": {},
   "outputs": [],
   "source": [
    "SELECT name, CONCAT(\n",
    "  ROUND(\n",
    "    population/(\n",
    "      SELECT population FROM world WHERE name = ‘Germany'\n",
    "    )*100\n",
    "  ),’%’\n",
    ") \n",
    "FROM world WHERE continent = 'Europe';"
   ]
  },
  {
   "cell_type": "markdown",
   "metadata": {},
   "source": [
    "- 2020年9月26日：ヨーロッパのどの国のGDPよりも大きなGDPを持つ国の国名だけを表示する。（GDPがNULL の国も有る：「gdp > 0」で処理。）"
   ]
  },
  {
   "cell_type": "code",
   "execution_count": null,
   "metadata": {},
   "outputs": [],
   "source": [
    "SELECT name FROM world\n",
    "WHERE gdp > ALL(\n",
    "  SELECT gdp FROM world\n",
    "  WHERE gdp > 0 AND continent = 'Europe'\n",
    ")"
   ]
  },
  {
   "cell_type": "markdown",
   "metadata": {},
   "source": [
    "- 2020年9月26日：各大陸のもっとも大きな国（面積で）の大陸、国名、面積を表示する。\n",
    "- （自己相関クエリー というテクニックを利用して解く。\n",
    "- 相関サブクエリーの２重ループの様に機能する：内側のサブクエリーは一度に１行ずつ外側のクエリーの関連するレコードにアクセスする。内と外で同じ名前のテーブルを区別するテクニックとして、外側のクエリーのテーブルと内側のサブクエリーのテーブルの名前を付け替える。\n",
    "- ）"
   ]
  },
  {
   "cell_type": "code",
   "execution_count": null,
   "metadata": {},
   "outputs": [],
   "source": [
    "SELECT continent, name, area FROM world x\n",
    "WHERE area >= ALL(\n",
    "  SELECT area FROM world y\n",
    "  WHERE y.continent=x.continent AND area > 0\n",
    ")"
   ]
  },
  {
   "cell_type": "markdown",
   "metadata": {},
   "source": [
    "- 2020年9月26日：各大陸の中でアルファベット順で先頭になる国の大陸と国名を表示する。"
   ]
  },
  {
   "cell_type": "code",
   "execution_count": null,
   "metadata": {},
   "outputs": [],
   "source": [
    "SELECT continent, name FROM world x\n",
    "WHERE name <= ALL(\n",
    "  SELECT name FROM world y\n",
    "  WHERE y.continent=x.continent\n",
    ")"
   ]
  },
  {
   "cell_type": "markdown",
   "metadata": {},
   "source": [
    "- 2020年9月26日：世界の総人口を表示。（各国の人口を合計）"
   ]
  },
  {
   "cell_type": "code",
   "execution_count": null,
   "metadata": {},
   "outputs": [],
   "source": [
    "SELECT SUM(population) FROM world"
   ]
  },
  {
   "cell_type": "markdown",
   "metadata": {},
   "source": [
    "- 2020年9月26日：各大陸continentごとに大陸名continentとそこの国の数を表示する。"
   ]
  },
  {
   "cell_type": "code",
   "execution_count": null,
   "metadata": {},
   "outputs": [],
   "source": [
    "SELECT continent, COUNT(continent) FROM world GROUP BY continent"
   ]
  },
  {
   "cell_type": "markdown",
   "metadata": {},
   "source": [
    "- 2020年9月26日：その大陸の各国の人口の合計が100000000人以上の大陸のリストを表示する"
   ]
  },
  {
   "cell_type": "code",
   "execution_count": null,
   "metadata": {},
   "outputs": [],
   "source": [
    "SELECT t1.continent \n",
    "FROM (SELECT continent, SUM(population) AS S FROM world \n",
    "GROUP BY continent) AS t1 \n",
    "WHERE t1.S >= '100000000';"
   ]
  },
  {
   "cell_type": "markdown",
   "metadata": {},
   "source": [
    "- 2020年9月26日：Marioという名前の選手のゴールについて、team1, team2 , player を表示する。"
   ]
  },
  {
   "cell_type": "code",
   "execution_count": null,
   "metadata": {},
   "outputs": [],
   "source": [
    "SELECT game.team1, game.team2, goal.player \n",
    "FROM game JOIN goal ON (\n",
    "  game.id = goal.matchid\n",
    ") \n",
    "WHERE goal.player LIKE 'Mario%'"
   ]
  },
  {
   "cell_type": "markdown",
   "metadata": {},
   "source": [
    "##### 以下は、https://sqlzoo.net/wiki/More_JOIN_operations/jaを解いたもの。\n",
    "- 2020年9月26日：映画「エイリアン」'Alien'の出演者リストを表示。（movie、casting、actor）"
   ]
  },
  {
   "cell_type": "code",
   "execution_count": null,
   "metadata": {},
   "outputs": [],
   "source": [
    "SELECT actor.name \n",
    "FROM (\n",
    "  SELECT * FROM movie \n",
    "  INNER JOIN casting ON (\n",
    "    movie.id = casting.movieid\n",
    "  ) \n",
    "  WHERE movie.title = ‘Alien’\n",
    ") AS t1 INNER JOIN actor ON (\n",
    "  t1.actorid = actor.id\n",
    ");"
   ]
  },
  {
   "cell_type": "markdown",
   "metadata": {},
   "source": [
    "- 2020年9月26日：'Harrison Ford'  ハリソン＝フォードが出演した映画のリストを表示する。（movie、casting、actor）"
   ]
  },
  {
   "cell_type": "code",
   "execution_count": null,
   "metadata": {},
   "outputs": [],
   "source": [
    "/* 3. 映画のIDから映画のタイトルを取得。 */\n",
    "SELECT movie.title \n",
    "FROM movie INNER JOIN (\n",
    "  /* 2. 俳優のIDから映画のIDを取得。 */\n",
    "  SELECT casting.movieid FROM casting \n",
    "  WHERE casting.actorid = (\n",
    "    /* 1. まず、俳優の名前から俳優のIDを取得。 */\n",
    "    SELECT actor.id FROM actor WHERE name = 'Harrison Ford'\n",
    "  )\n",
    ")AS t1 ON (\n",
    "  movie.id = t1.movieid\n",
    ");"
   ]
  },
  {
   "cell_type": "markdown",
   "metadata": {},
   "source": [
    "- 2020年9月26日：'Art Garfunkel' アート＝ガーファンクルと一緒に仕事をした人々をすべて表示。（movie、casting、actor）"
   ]
  },
  {
   "cell_type": "code",
   "execution_count": null,
   "metadata": {},
   "outputs": [],
   "source": [
    "/* 4. 俳優のIDから俳優の名前を取得。 */\n",
    "SELECT actor.name \n",
    "FROM actor INNER JOIN (\n",
    "  /* 3. 映画のIDから俳優のIDを取得。 */\n",
    "  SELECT DISTINCT casting.actorid FROM casting \n",
    "  WHERE casting.movieid IN (\n",
    "    /* 2. 俳優のIDから映画のIDを取得。 */\n",
    "    SELECT movieid FROM casting \n",
    "    WHERE casting.actorid = (\n",
    "      /* 1. まず、俳優の名前から俳優のIDを取得。 */\n",
    "      SELECT actor.id FROM actor WHERE name = 'Art Garfunkel'\n",
    "    )\n",
    "  )\n",
    ")AS t1 ON (\n",
    "  actor.id = t1.actorid\n",
    ")\n",
    "/* 5. 特定の俳優を除外。 */\n",
    "WHERE name <> 'Art Garfunkel'\n",
    ";"
   ]
  },
  {
   "cell_type": "markdown",
   "metadata": {},
   "source": [
    "- 2020年9月26日：'Art Garfunkel' アート＝ガーファンクルと一緒に仕事をした人々をすべて表示。　にて、監督も含めたもの。（movie、casting、actor）"
   ]
  },
  {
   "cell_type": "code",
   "execution_count": null,
   "metadata": {},
   "outputs": [],
   "source": [
    "/* 4. 俳優のIDから俳優の名前を取得。 */\n",
    "SELECT actor.name \n",
    "FROM actor INNER JOIN (\n",
    "  /* 3. 映画のIDから俳優のIDを取得。 */\n",
    "  SELECT DISTINCT casting.actorid FROM casting \n",
    "  WHERE casting.movieid IN (\n",
    "    /* 2. 俳優のIDから映画のIDを取得。 */\n",
    "    SELECT movieid FROM casting \n",
    "    WHERE casting.actorid = (\n",
    "      /* 1. まず、俳優の名前から俳優のIDを取得。 */\n",
    "      SELECT actor.id FROM actor WHERE name = 'Art Garfunkel'\n",
    "    )\n",
    "  )\n",
    ")AS t1 ON (\n",
    "  actor.id = t1.actorid\n",
    ")\n",
    "/* 5. 特定の俳優を除外。 */\n",
    "WHERE name <> 'Art Garfunkel'\n",
    "UNION \n",
    "/* 4. 映画の監督(ID)から映画の監督の名前を取得。 */\n",
    "SELECT actor.name\n",
    "FROM actor INNER JOIN (\n",
    "  /* 3. 映画のIDから映画の監督(ID)を取得。 */\n",
    "  SELECT movie.director \n",
    "  FROM movie INNER JOIN (\n",
    "    /* 2. 俳優のIDから映画のIDを取得。 */\n",
    "    SELECT casting.movieid FROM casting \n",
    "    WHERE casting.actorid = (\n",
    "      /* 1. まず、俳優の名前から俳優のIDを取得。 */\n",
    "      SELECT actor.id FROM actor WHERE name = 'Art Garfunkel'\n",
    "    )\n",
    "  ) AS t2 ON (\n",
    "    movie.id = t2.movieid\n",
    "  )\n",
    ") AS t3 ON (\n",
    "  actor.id = t3.director\n",
    ")\n",
    ";"
   ]
  },
  {
   "cell_type": "markdown",
   "metadata": {},
   "source": [
    "##### SQLite\n",
    "- SQLiteはローカルのファイルを直接データベースとして扱うので、複数のサーバーとネットワークごしに接続するのには不向きです。Webサーバーを複数台起動する場合などはMySQLやPostgreSQLなどを使うほうが良いでしょう。"
   ]
  }
 ],
 "metadata": {
  "kernelspec": {
   "display_name": "Python 3",
   "language": "python",
   "name": "python3"
  },
  "language_info": {
   "codemirror_mode": {
    "name": "ipython",
    "version": 3
   },
   "file_extension": ".py",
   "mimetype": "text/x-python",
   "name": "python",
   "nbconvert_exporter": "python",
   "pygments_lexer": "ipython3",
   "version": "3.7.2"
  }
 },
 "nbformat": 4,
 "nbformat_minor": 2
}
